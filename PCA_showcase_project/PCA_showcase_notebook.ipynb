{
  "nbformat": 4,
  "nbformat_minor": 0,
  "metadata": {
    "colab": {
      "provenance": []
    },
    "kernelspec": {
      "name": "python3",
      "display_name": "Python 3"
    },
    "language_info": {
      "name": "python"
    }
  },
  "cells": [
    {
      "cell_type": "code",
      "execution_count": 2,
      "metadata": {
        "colab": {
          "base_uri": "https://localhost:8080/",
          "height": 1000
        },
        "id": "lfcSNbqBwLPZ",
        "outputId": "47c255e0-8305-494f-c9e3-1738825e2cb9"
      },
      "outputs": [
        {
          "output_type": "stream",
          "name": "stdout",
          "text": [
            "   SepalLength  SepalWidth  PetalLength  PetalWidth      Species\n",
            "0          5.1         3.5          1.4         0.2  Iris-setosa\n",
            "1          4.9         3.0          1.4         0.2  Iris-setosa\n",
            "2          4.7         3.2          1.3         0.2  Iris-setosa\n",
            "3          4.6         3.1          1.5         0.2  Iris-setosa\n",
            "4          5.0         3.6          1.4         0.2  Iris-setosa\n",
            "(150, 5)\n",
            "<class 'pandas.core.frame.DataFrame'>\n",
            "RangeIndex: 150 entries, 0 to 149\n",
            "Data columns (total 5 columns):\n",
            " #   Column       Non-Null Count  Dtype  \n",
            "---  ------       --------------  -----  \n",
            " 0   SepalLength  150 non-null    float64\n",
            " 1   SepalWidth   150 non-null    float64\n",
            " 2   PetalLength  150 non-null    float64\n",
            " 3   PetalWidth   150 non-null    float64\n",
            " 4   Species      150 non-null    object \n",
            "dtypes: float64(4), object(1)\n",
            "memory usage: 6.0+ KB\n",
            "None\n",
            "       SepalLength  SepalWidth  PetalLength  PetalWidth\n",
            "count   150.000000  150.000000   150.000000  150.000000\n",
            "mean      5.843333    3.054000     3.758667    1.198667\n",
            "std       0.828066    0.433594     1.764420    0.763161\n",
            "min       4.300000    2.000000     1.000000    0.100000\n",
            "25%       5.100000    2.800000     1.600000    0.300000\n",
            "50%       5.800000    3.000000     4.350000    1.300000\n",
            "75%       6.400000    3.300000     5.100000    1.800000\n",
            "max       7.900000    4.400000     6.900000    2.500000\n",
            "<class 'pandas.core.frame.DataFrame'>\n",
            "RangeIndex: 150 entries, 0 to 149\n",
            "Data columns (total 5 columns):\n",
            " #   Column       Non-Null Count  Dtype  \n",
            "---  ------       --------------  -----  \n",
            " 0   SepalLength  150 non-null    float64\n",
            " 1   SepalWidth   150 non-null    float64\n",
            " 2   PetalLength  150 non-null    float64\n",
            " 3   PetalWidth   150 non-null    float64\n",
            " 4   Species      150 non-null    int64  \n",
            "dtypes: float64(4), int64(1)\n",
            "memory usage: 6.0 KB\n",
            "None\n",
            "<class 'pandas.core.frame.DataFrame'>\n",
            "<class 'pandas.core.series.Series'>\n",
            "(150, 4)\n",
            "(150,)\n",
            "Variance explained by each of the n_components:  [0.72770452 0.23030523]\n",
            "Total variance explained by the n_components:  0.9580097536148197\n"
          ]
        },
        {
          "output_type": "display_data",
          "data": {
            "text/html": [
              "<html>\n",
              "<head><meta charset=\"utf-8\" /></head>\n",
              "<body>\n",
              "    <div>            <script src=\"https://cdnjs.cloudflare.com/ajax/libs/mathjax/2.7.5/MathJax.js?config=TeX-AMS-MML_SVG\"></script><script type=\"text/javascript\">if (window.MathJax && window.MathJax.Hub && window.MathJax.Hub.Config) {window.MathJax.Hub.Config({SVG: {font: \"STIX-Web\"}});}</script>                <script type=\"text/javascript\">window.PlotlyConfig = {MathJaxConfig: 'local'};</script>\n",
              "        <script charset=\"utf-8\" src=\"https://cdn.plot.ly/plotly-2.24.1.min.js\"></script>                <div id=\"9d5e7537-cdda-43e5-93cd-c98a73645154\" class=\"plotly-graph-div\" style=\"height:500px; width:500px;\"></div>            <script type=\"text/javascript\">                                    window.PLOTLYENV=window.PLOTLYENV || {};                                    if (document.getElementById(\"9d5e7537-cdda-43e5-93cd-c98a73645154\")) {                    Plotly.newPlot(                        \"9d5e7537-cdda-43e5-93cd-c98a73645154\",                        [{\"hoverinfo\":\"text\",\"marker\":{\"color\":[1,1,1,1,1,1,1,1,1,1,1,1,1,1,1,1,1,1,1,1,1,1,1,1,1,1,1,1,1,1,1,1,1,1,1,1,1,1,1,1,1,1,1,1,1,1,1,1,1,1,2,2,2,2,2,2,2,2,2,2,2,2,2,2,2,2,2,2,2,2,2,2,2,2,2,2,2,2,2,2,2,2,2,2,2,2,2,2,2,2,2,2,2,2,2,2,2,2,2,2,3,3,3,3,3,3,3,3,3,3,3,3,3,3,3,3,3,3,3,3,3,3,3,3,3,3,3,3,3,3,3,3,3,3,3,3,3,3,3,3,3,3,3,3,3,3,3,3,3,3],\"colorscale\":[[0.0,\"rgb(150,0,90)\"],[0.125,\"rgb(0,0,200)\"],[0.25,\"rgb(0,25,255)\"],[0.375,\"rgb(0,152,255)\"],[0.5,\"rgb(44,255,150)\"],[0.625,\"rgb(151,255,0)\"],[0.75,\"rgb(255,234,0)\"],[0.875,\"rgb(255,111,0)\"],[1.0,\"rgb(255,0,0)\"]],\"opacity\":0.5},\"mode\":\"markers\",\"text\":[\"digit: 1\",\"digit: 1\",\"digit: 1\",\"digit: 1\",\"digit: 1\",\"digit: 1\",\"digit: 1\",\"digit: 1\",\"digit: 1\",\"digit: 1\",\"digit: 1\",\"digit: 1\",\"digit: 1\",\"digit: 1\",\"digit: 1\",\"digit: 1\",\"digit: 1\",\"digit: 1\",\"digit: 1\",\"digit: 1\",\"digit: 1\",\"digit: 1\",\"digit: 1\",\"digit: 1\",\"digit: 1\",\"digit: 1\",\"digit: 1\",\"digit: 1\",\"digit: 1\",\"digit: 1\",\"digit: 1\",\"digit: 1\",\"digit: 1\",\"digit: 1\",\"digit: 1\",\"digit: 1\",\"digit: 1\",\"digit: 1\",\"digit: 1\",\"digit: 1\",\"digit: 1\",\"digit: 1\",\"digit: 1\",\"digit: 1\",\"digit: 1\",\"digit: 1\",\"digit: 1\",\"digit: 1\",\"digit: 1\",\"digit: 1\",\"digit: 2\",\"digit: 2\",\"digit: 2\",\"digit: 2\",\"digit: 2\",\"digit: 2\",\"digit: 2\",\"digit: 2\",\"digit: 2\",\"digit: 2\",\"digit: 2\",\"digit: 2\",\"digit: 2\",\"digit: 2\",\"digit: 2\",\"digit: 2\",\"digit: 2\",\"digit: 2\",\"digit: 2\",\"digit: 2\",\"digit: 2\",\"digit: 2\",\"digit: 2\",\"digit: 2\",\"digit: 2\",\"digit: 2\",\"digit: 2\",\"digit: 2\",\"digit: 2\",\"digit: 2\",\"digit: 2\",\"digit: 2\",\"digit: 2\",\"digit: 2\",\"digit: 2\",\"digit: 2\",\"digit: 2\",\"digit: 2\",\"digit: 2\",\"digit: 2\",\"digit: 2\",\"digit: 2\",\"digit: 2\",\"digit: 2\",\"digit: 2\",\"digit: 2\",\"digit: 2\",\"digit: 2\",\"digit: 2\",\"digit: 2\",\"digit: 3\",\"digit: 3\",\"digit: 3\",\"digit: 3\",\"digit: 3\",\"digit: 3\",\"digit: 3\",\"digit: 3\",\"digit: 3\",\"digit: 3\",\"digit: 3\",\"digit: 3\",\"digit: 3\",\"digit: 3\",\"digit: 3\",\"digit: 3\",\"digit: 3\",\"digit: 3\",\"digit: 3\",\"digit: 3\",\"digit: 3\",\"digit: 3\",\"digit: 3\",\"digit: 3\",\"digit: 3\",\"digit: 3\",\"digit: 3\",\"digit: 3\",\"digit: 3\",\"digit: 3\",\"digit: 3\",\"digit: 3\",\"digit: 3\",\"digit: 3\",\"digit: 3\",\"digit: 3\",\"digit: 3\",\"digit: 3\",\"digit: 3\",\"digit: 3\",\"digit: 3\",\"digit: 3\",\"digit: 3\",\"digit: 3\",\"digit: 3\",\"digit: 3\",\"digit: 3\",\"digit: 3\",\"digit: 3\",\"digit: 3\"],\"x\":[-2.2645417283948994,-2.0864255006161576,-2.367950449062525,-2.304197161152008,-2.388777493505641,-2.0705368071805528,-2.4457113396302823,-2.233841858709265,-2.341957676455389,-2.188675755280869,-2.163486556266522,-2.327377754134373,-2.2240827220450012,-2.639716260844628,-2.1922915084984287,-2.251465214584065,-2.202750480080085,-2.1901791637910515,-1.8940742930236678,-2.3399490704234074,-1.9145563949595163,-2.204645397533813,-2.7741697937051555,-1.820411563337213,-2.228217499459724,-1.957024007341396,-2.0520633112766857,-2.1681936533450203,-2.140305963284157,-2.2687901943878757,-2.1445544292771337,-1.8319381022015866,-2.6082028676633464,-2.437950859095142,-2.188675755280869,-2.2111198968124213,-2.0444165193198,-2.188675755280869,-2.435952202966018,-2.1705472018842698,-2.2865272388409297,-1.8717072235369494,-2.557834419537511,-1.9642792903547366,-2.133372832920027,-2.0753575928373054,-2.3812582168023724,-2.3981916876626377,-2.226781213091518,-2.2059541686484017,1.1039936528045713,0.7324814400086802,1.2421095053189366,0.39730728282332756,1.0725939482015447,0.38445814616900165,0.7487150759515523,-0.4978633877981172,0.9262223675330975,0.004968025584319777,-0.12469746138036995,0.4387301177805466,0.5516339814225075,0.7171650662368508,-0.037258382965688126,0.8758905359406823,0.34800640198020866,0.153392544568667,1.2153032092161538,0.15694117564425086,0.7382561043698957,0.47236968234456816,1.227988214083442,0.6293810453149015,0.7004727992084577,0.8735369874014329,1.2542221905224493,1.358239847387271,0.6621261375659375,-0.04728151331987996,0.12153420888011904,0.014118226051388107,0.23601083732659686,1.0566914280905764,0.22141708833021803,0.4317831607410532,1.0494133552191796,1.035878210322824,0.06706759987298046,0.2754250662518345,0.2723350662617723,0.6231705397262212,0.33000536383722645,-0.37362762268737537,0.28294434295510296,0.08905311031901152,0.22435678320860605,0.5738834855584666,-0.4570128725046742,0.2522444732694693,1.8476725943096635,1.153189808252129,2.2063494971265922,1.4386854023261813,1.867890702555584,2.754196708825751,0.35837447484166846,2.303005898150318,2.0017352992189155,2.2675545991022665,1.3659094292022134,1.5990645856518686,1.8842518537520732,1.2530865143775918,1.4640615229856224,1.591809302638528,1.4712801894655432,2.4373784821935063,3.3091411826760777,1.2539809866905778,2.040496259663038,0.9739151144704737,2.898064435843275,1.329193691323493,1.7042407085196047,1.957727661793434,1.1719045079878683,1.0197810528162625,1.7860088612484672,1.8647779127074648,2.4354973914151423,2.316082411961153,1.8603714258523154,1.1112717256759685,1.1974691551180376,2.8009494037340272,1.5801552485205366,1.3470444243548012,0.923432977766384,1.8535519840664394,2.016157200677758,1.903116858599486,1.153189808252129,2.043308439287808,2.0016909669349965,1.8705220714601247,1.5584918907237166,1.5208450639985898,1.3763911906419273,0.9592985756160377],\"y\":[0.5057039027737852,-0.6554047293691361,-0.3184773108472487,-0.5753677125331949,0.674767396702516,1.5185485598885136,0.07456267500687462,0.24761393175226573,-1.0951463625829547,-0.4486290483375586,1.070595576037727,0.15858745465947657,-0.7091181580302258,-0.9382819821078536,1.8899785123164663,2.7223710765744698,1.513750282546219,0.5143043082206933,1.4311107069412374,1.1580334289850018,0.43046516328013856,0.9524573172889987,0.48951702650349577,0.10675079283540663,0.16218616266619754,-0.6078925674838075,0.26601431198165565,0.5520164953235405,0.3366404088450548,-0.3148786028405277,-0.4839420967692584,0.4452668355028075,1.8284751927341019,2.185391615630893,-0.4486290483375586,-0.18433781054027829,0.6849564262949371,-0.4486290483375586,-0.8821694147756165,0.29272695496644685,0.46799171567093856,-2.32769160611491,-0.45381638048979267,0.49739164001838404,1.1714321117742044,-0.6919173471364095,1.1506325928736674,-0.3623907647258566,1.0254825528235454,0.03223784527378008,0.8631124458513243,0.5986355733419972,0.6148224496122866,-1.7581689474435265,-0.2117579026798958,-0.5910624686227365,0.778698611388782,-1.8488687712754426,0.030330826783381056,-1.0294011124030882,-2.658062677961761,-0.05888128502145444,-1.772581564856255,-0.1854343145050439,-0.432795098714169,0.5099981510591475,-0.19062164665727785,-0.7907254562344854,-1.6333556445154833,-1.3031032701729113,0.4024703816185358,-0.4166082224438796,-0.9409147925302724,-0.41681164254177216,-0.0634939276517023,0.25070861070205386,-0.08262009981311264,0.32882026627040184,-0.2243460709434643,-1.0572124126050204,-1.5635923798655782,-1.57339235464806,-0.7759237840118164,-0.6369012837689372,-0.2808476930856403,0.8551369202180028,0.5221972645127766,-1.3924664843877812,-0.21262073489338876,-1.3298159131577025,-1.119441524119404,0.027542633302294398,-0.9889007318191547,-2.0179322652041733,-0.8539507169865501,-0.17490854779054166,-0.3804846594865455,-0.15371997408006507,-1.5394645102639808,-0.5958607459650311,0.8716966617734129,-0.7013261138565756,0.5544701049349224,-0.05001052226888572,0.2911928017611689,0.7884322063548448,-1.5600945839772897,0.4095166952219434,-0.7238653593126596,1.9214429914653548,0.6939480398041611,-0.42824883590033985,0.41433275795008384,-1.1673913352452463,-0.4441475694791238,0.6770353716018516,0.25319247196681544,2.556757341494802,-0.002361320102083271,-1.7175838442659779,0.9073987650150529,-0.5711743763662663,0.39779135917186803,-0.4867605419037242,1.014148424835785,1.003334515429777,-0.318896617310568,0.06554296309664795,-0.1932727998568916,0.5553815315789896,0.24665446806897393,2.626183869022628,-0.18467239440998345,-0.2959861024303904,-0.817167741913616,0.8447481937849745,1.0724744961271222,0.4222559658955462,0.019230370546893086,0.6724227289716036,0.6103970375551128,0.686024831858699,-0.7013261138565756,0.8646848804720186,1.0485500466234174,0.382821837622998,-0.9053136014070663,0.2667945748539107,1.0163619287948853,-0.022283944660567146],\"type\":\"scatter\"}],                        {\"height\":500,\"title\":{\"text\":\"PCA Dimensionality Reduction\"},\"width\":500,\"xaxis\":{\"title\":{\"text\":\"First Principal Component\"}},\"yaxis\":{\"title\":{\"text\":\"Second Principal Component\"}},\"template\":{\"data\":{\"histogram2dcontour\":[{\"type\":\"histogram2dcontour\",\"colorbar\":{\"outlinewidth\":0,\"ticks\":\"\"},\"colorscale\":[[0.0,\"#0d0887\"],[0.1111111111111111,\"#46039f\"],[0.2222222222222222,\"#7201a8\"],[0.3333333333333333,\"#9c179e\"],[0.4444444444444444,\"#bd3786\"],[0.5555555555555556,\"#d8576b\"],[0.6666666666666666,\"#ed7953\"],[0.7777777777777778,\"#fb9f3a\"],[0.8888888888888888,\"#fdca26\"],[1.0,\"#f0f921\"]]}],\"choropleth\":[{\"type\":\"choropleth\",\"colorbar\":{\"outlinewidth\":0,\"ticks\":\"\"}}],\"histogram2d\":[{\"type\":\"histogram2d\",\"colorbar\":{\"outlinewidth\":0,\"ticks\":\"\"},\"colorscale\":[[0.0,\"#0d0887\"],[0.1111111111111111,\"#46039f\"],[0.2222222222222222,\"#7201a8\"],[0.3333333333333333,\"#9c179e\"],[0.4444444444444444,\"#bd3786\"],[0.5555555555555556,\"#d8576b\"],[0.6666666666666666,\"#ed7953\"],[0.7777777777777778,\"#fb9f3a\"],[0.8888888888888888,\"#fdca26\"],[1.0,\"#f0f921\"]]}],\"heatmap\":[{\"type\":\"heatmap\",\"colorbar\":{\"outlinewidth\":0,\"ticks\":\"\"},\"colorscale\":[[0.0,\"#0d0887\"],[0.1111111111111111,\"#46039f\"],[0.2222222222222222,\"#7201a8\"],[0.3333333333333333,\"#9c179e\"],[0.4444444444444444,\"#bd3786\"],[0.5555555555555556,\"#d8576b\"],[0.6666666666666666,\"#ed7953\"],[0.7777777777777778,\"#fb9f3a\"],[0.8888888888888888,\"#fdca26\"],[1.0,\"#f0f921\"]]}],\"heatmapgl\":[{\"type\":\"heatmapgl\",\"colorbar\":{\"outlinewidth\":0,\"ticks\":\"\"},\"colorscale\":[[0.0,\"#0d0887\"],[0.1111111111111111,\"#46039f\"],[0.2222222222222222,\"#7201a8\"],[0.3333333333333333,\"#9c179e\"],[0.4444444444444444,\"#bd3786\"],[0.5555555555555556,\"#d8576b\"],[0.6666666666666666,\"#ed7953\"],[0.7777777777777778,\"#fb9f3a\"],[0.8888888888888888,\"#fdca26\"],[1.0,\"#f0f921\"]]}],\"contourcarpet\":[{\"type\":\"contourcarpet\",\"colorbar\":{\"outlinewidth\":0,\"ticks\":\"\"}}],\"contour\":[{\"type\":\"contour\",\"colorbar\":{\"outlinewidth\":0,\"ticks\":\"\"},\"colorscale\":[[0.0,\"#0d0887\"],[0.1111111111111111,\"#46039f\"],[0.2222222222222222,\"#7201a8\"],[0.3333333333333333,\"#9c179e\"],[0.4444444444444444,\"#bd3786\"],[0.5555555555555556,\"#d8576b\"],[0.6666666666666666,\"#ed7953\"],[0.7777777777777778,\"#fb9f3a\"],[0.8888888888888888,\"#fdca26\"],[1.0,\"#f0f921\"]]}],\"surface\":[{\"type\":\"surface\",\"colorbar\":{\"outlinewidth\":0,\"ticks\":\"\"},\"colorscale\":[[0.0,\"#0d0887\"],[0.1111111111111111,\"#46039f\"],[0.2222222222222222,\"#7201a8\"],[0.3333333333333333,\"#9c179e\"],[0.4444444444444444,\"#bd3786\"],[0.5555555555555556,\"#d8576b\"],[0.6666666666666666,\"#ed7953\"],[0.7777777777777778,\"#fb9f3a\"],[0.8888888888888888,\"#fdca26\"],[1.0,\"#f0f921\"]]}],\"mesh3d\":[{\"type\":\"mesh3d\",\"colorbar\":{\"outlinewidth\":0,\"ticks\":\"\"}}],\"scatter\":[{\"fillpattern\":{\"fillmode\":\"overlay\",\"size\":10,\"solidity\":0.2},\"type\":\"scatter\"}],\"parcoords\":[{\"type\":\"parcoords\",\"line\":{\"colorbar\":{\"outlinewidth\":0,\"ticks\":\"\"}}}],\"scatterpolargl\":[{\"type\":\"scatterpolargl\",\"marker\":{\"colorbar\":{\"outlinewidth\":0,\"ticks\":\"\"}}}],\"bar\":[{\"error_x\":{\"color\":\"#2a3f5f\"},\"error_y\":{\"color\":\"#2a3f5f\"},\"marker\":{\"line\":{\"color\":\"#E5ECF6\",\"width\":0.5},\"pattern\":{\"fillmode\":\"overlay\",\"size\":10,\"solidity\":0.2}},\"type\":\"bar\"}],\"scattergeo\":[{\"type\":\"scattergeo\",\"marker\":{\"colorbar\":{\"outlinewidth\":0,\"ticks\":\"\"}}}],\"scatterpolar\":[{\"type\":\"scatterpolar\",\"marker\":{\"colorbar\":{\"outlinewidth\":0,\"ticks\":\"\"}}}],\"histogram\":[{\"marker\":{\"pattern\":{\"fillmode\":\"overlay\",\"size\":10,\"solidity\":0.2}},\"type\":\"histogram\"}],\"scattergl\":[{\"type\":\"scattergl\",\"marker\":{\"colorbar\":{\"outlinewidth\":0,\"ticks\":\"\"}}}],\"scatter3d\":[{\"type\":\"scatter3d\",\"line\":{\"colorbar\":{\"outlinewidth\":0,\"ticks\":\"\"}},\"marker\":{\"colorbar\":{\"outlinewidth\":0,\"ticks\":\"\"}}}],\"scattermapbox\":[{\"type\":\"scattermapbox\",\"marker\":{\"colorbar\":{\"outlinewidth\":0,\"ticks\":\"\"}}}],\"scatterternary\":[{\"type\":\"scatterternary\",\"marker\":{\"colorbar\":{\"outlinewidth\":0,\"ticks\":\"\"}}}],\"scattercarpet\":[{\"type\":\"scattercarpet\",\"marker\":{\"colorbar\":{\"outlinewidth\":0,\"ticks\":\"\"}}}],\"carpet\":[{\"aaxis\":{\"endlinecolor\":\"#2a3f5f\",\"gridcolor\":\"white\",\"linecolor\":\"white\",\"minorgridcolor\":\"white\",\"startlinecolor\":\"#2a3f5f\"},\"baxis\":{\"endlinecolor\":\"#2a3f5f\",\"gridcolor\":\"white\",\"linecolor\":\"white\",\"minorgridcolor\":\"white\",\"startlinecolor\":\"#2a3f5f\"},\"type\":\"carpet\"}],\"table\":[{\"cells\":{\"fill\":{\"color\":\"#EBF0F8\"},\"line\":{\"color\":\"white\"}},\"header\":{\"fill\":{\"color\":\"#C8D4E3\"},\"line\":{\"color\":\"white\"}},\"type\":\"table\"}],\"barpolar\":[{\"marker\":{\"line\":{\"color\":\"#E5ECF6\",\"width\":0.5},\"pattern\":{\"fillmode\":\"overlay\",\"size\":10,\"solidity\":0.2}},\"type\":\"barpolar\"}],\"pie\":[{\"automargin\":true,\"type\":\"pie\"}]},\"layout\":{\"autotypenumbers\":\"strict\",\"colorway\":[\"#636efa\",\"#EF553B\",\"#00cc96\",\"#ab63fa\",\"#FFA15A\",\"#19d3f3\",\"#FF6692\",\"#B6E880\",\"#FF97FF\",\"#FECB52\"],\"font\":{\"color\":\"#2a3f5f\"},\"hovermode\":\"closest\",\"hoverlabel\":{\"align\":\"left\"},\"paper_bgcolor\":\"white\",\"plot_bgcolor\":\"#E5ECF6\",\"polar\":{\"bgcolor\":\"#E5ECF6\",\"angularaxis\":{\"gridcolor\":\"white\",\"linecolor\":\"white\",\"ticks\":\"\"},\"radialaxis\":{\"gridcolor\":\"white\",\"linecolor\":\"white\",\"ticks\":\"\"}},\"ternary\":{\"bgcolor\":\"#E5ECF6\",\"aaxis\":{\"gridcolor\":\"white\",\"linecolor\":\"white\",\"ticks\":\"\"},\"baxis\":{\"gridcolor\":\"white\",\"linecolor\":\"white\",\"ticks\":\"\"},\"caxis\":{\"gridcolor\":\"white\",\"linecolor\":\"white\",\"ticks\":\"\"}},\"coloraxis\":{\"colorbar\":{\"outlinewidth\":0,\"ticks\":\"\"}},\"colorscale\":{\"sequential\":[[0.0,\"#0d0887\"],[0.1111111111111111,\"#46039f\"],[0.2222222222222222,\"#7201a8\"],[0.3333333333333333,\"#9c179e\"],[0.4444444444444444,\"#bd3786\"],[0.5555555555555556,\"#d8576b\"],[0.6666666666666666,\"#ed7953\"],[0.7777777777777778,\"#fb9f3a\"],[0.8888888888888888,\"#fdca26\"],[1.0,\"#f0f921\"]],\"sequentialminus\":[[0.0,\"#0d0887\"],[0.1111111111111111,\"#46039f\"],[0.2222222222222222,\"#7201a8\"],[0.3333333333333333,\"#9c179e\"],[0.4444444444444444,\"#bd3786\"],[0.5555555555555556,\"#d8576b\"],[0.6666666666666666,\"#ed7953\"],[0.7777777777777778,\"#fb9f3a\"],[0.8888888888888888,\"#fdca26\"],[1.0,\"#f0f921\"]],\"diverging\":[[0,\"#8e0152\"],[0.1,\"#c51b7d\"],[0.2,\"#de77ae\"],[0.3,\"#f1b6da\"],[0.4,\"#fde0ef\"],[0.5,\"#f7f7f7\"],[0.6,\"#e6f5d0\"],[0.7,\"#b8e186\"],[0.8,\"#7fbc41\"],[0.9,\"#4d9221\"],[1,\"#276419\"]]},\"xaxis\":{\"gridcolor\":\"white\",\"linecolor\":\"white\",\"ticks\":\"\",\"title\":{\"standoff\":15},\"zerolinecolor\":\"white\",\"automargin\":true,\"zerolinewidth\":2},\"yaxis\":{\"gridcolor\":\"white\",\"linecolor\":\"white\",\"ticks\":\"\",\"title\":{\"standoff\":15},\"zerolinecolor\":\"white\",\"automargin\":true,\"zerolinewidth\":2},\"scene\":{\"xaxis\":{\"backgroundcolor\":\"#E5ECF6\",\"gridcolor\":\"white\",\"linecolor\":\"white\",\"showbackground\":true,\"ticks\":\"\",\"zerolinecolor\":\"white\",\"gridwidth\":2},\"yaxis\":{\"backgroundcolor\":\"#E5ECF6\",\"gridcolor\":\"white\",\"linecolor\":\"white\",\"showbackground\":true,\"ticks\":\"\",\"zerolinecolor\":\"white\",\"gridwidth\":2},\"zaxis\":{\"backgroundcolor\":\"#E5ECF6\",\"gridcolor\":\"white\",\"linecolor\":\"white\",\"showbackground\":true,\"ticks\":\"\",\"zerolinecolor\":\"white\",\"gridwidth\":2}},\"shapedefaults\":{\"line\":{\"color\":\"#2a3f5f\"}},\"annotationdefaults\":{\"arrowcolor\":\"#2a3f5f\",\"arrowhead\":0,\"arrowwidth\":1},\"geo\":{\"bgcolor\":\"white\",\"landcolor\":\"#E5ECF6\",\"subunitcolor\":\"white\",\"showland\":true,\"showlakes\":true,\"lakecolor\":\"white\"},\"title\":{\"x\":0.05},\"mapbox\":{\"style\":\"light\"}}}},                        {\"responsive\": true}                    ).then(function(){\n",
              "                            \n",
              "var gd = document.getElementById('9d5e7537-cdda-43e5-93cd-c98a73645154');\n",
              "var x = new MutationObserver(function (mutations, observer) {{\n",
              "        var display = window.getComputedStyle(gd).display;\n",
              "        if (!display || display === 'none') {{\n",
              "            console.log([gd, 'removed!']);\n",
              "            Plotly.purge(gd);\n",
              "            observer.disconnect();\n",
              "        }}\n",
              "}});\n",
              "\n",
              "// Listen for the removal of the full notebook cells\n",
              "var notebookContainer = gd.closest('#notebook-container');\n",
              "if (notebookContainer) {{\n",
              "    x.observe(notebookContainer, {childList: true});\n",
              "}}\n",
              "\n",
              "// Listen for the clearing of the current output cell\n",
              "var outputEl = gd.closest('.output');\n",
              "if (outputEl) {{\n",
              "    x.observe(outputEl, {childList: true});\n",
              "}}\n",
              "\n",
              "                        })                };                            </script>        </div>\n",
              "</body>\n",
              "</html>"
            ]
          },
          "metadata": {}
        }
      ],
      "source": [
        "# Project to showcase the working of PCA dimensionality reduction technique\n",
        "\n",
        "import numpy as np\n",
        "import pandas as pd\n",
        "from sklearn.preprocessing import StandardScaler\n",
        "from sklearn.decomposition import PCA\n",
        "import plotly.graph_objs as go\n",
        "import plotly.figure_factory as ff\n",
        "\n",
        "\n",
        "# Importing dataset and examining it\n",
        "dataset = pd.read_csv(\"/content/drive/MyDrive/Datasets/iris.csv\")\n",
        "print(dataset.head())\n",
        "print(dataset.shape)\n",
        "print(dataset.info())\n",
        "print(dataset.describe())\n",
        "\n",
        "# Converting Categorical features into Numerical features\n",
        "dataset['Species'] = dataset['Species'].map({'Iris-setosa': 1, 'Iris-versicolor': 2, 'Iris-virginica': 3})\n",
        "print(dataset.info())\n",
        "\n",
        "# Dividing dataset into label and feature sets\n",
        "X = dataset.drop('Species', axis = 1) # Features\n",
        "Y = dataset['Species'] # Labels\n",
        "print(type(X))\n",
        "print(type(Y))\n",
        "print(X.shape)\n",
        "print(Y.shape)\n",
        "\n",
        "# Normalizing numerical features so that each feature has mean 0 and variance 1\n",
        "feature_scaler = StandardScaler()\n",
        "X_scaled = feature_scaler.fit_transform(X)\n",
        "\n",
        "# Implementing PCA to visualize dataset\n",
        "pca = PCA(n_components = 2)\n",
        "pca.fit(X_scaled)\n",
        "x_pca = pca.transform(X_scaled)\n",
        "print(\"Variance explained by each of the n_components: \",pca.explained_variance_ratio_)\n",
        "print(\"Total variance explained by the n_components: \",sum(pca.explained_variance_ratio_))\n",
        "\n",
        "digits=list(dataset['Species'])\n",
        "data = [go.Scatter(x=x_pca[:,0], y=x_pca[:,1], mode='markers',\n",
        "                    marker = dict(color=Y, colorscale='Rainbow', opacity=0.5),\n",
        "                                text=[f'digit: {a}' for a in digits],\n",
        "                                hoverinfo='text')]\n",
        "\n",
        "layout = go.Layout(title = 'PCA Dimensionality Reduction', width = 500, height = 500,\n",
        "                    xaxis = dict(title='First Principal Component'),\n",
        "                    yaxis = dict(title='Second Principal Component'))\n",
        "fig = go.Figure(data=data, layout=layout)\n",
        "fig.show()"
      ]
    },
    {
      "cell_type": "code",
      "source": [
        "from google.colab import drive\n",
        "drive.mount('/content/drive')"
      ],
      "metadata": {
        "colab": {
          "base_uri": "https://localhost:8080/"
        },
        "id": "Rg_2GBlxwt4a",
        "outputId": "080ed693-e6d0-4976-daf1-564c9f2407e5"
      },
      "execution_count": 1,
      "outputs": [
        {
          "output_type": "stream",
          "name": "stdout",
          "text": [
            "Mounted at /content/drive\n"
          ]
        }
      ]
    }
  ]
}